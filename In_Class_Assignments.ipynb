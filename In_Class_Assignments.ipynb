{
  "nbformat": 4,
  "nbformat_minor": 0,
  "metadata": {
    "colab": {
      "provenance": [],
      "toc_visible": true,
      "authorship_tag": "ABX9TyPw6av1s/gBpIyvG36CsAra",
      "include_colab_link": true
    },
    "kernelspec": {
      "name": "python3",
      "display_name": "Python 3"
    },
    "language_info": {
      "name": "python"
    }
  },
  "cells": [
    {
      "cell_type": "markdown",
      "metadata": {
        "id": "view-in-github",
        "colab_type": "text"
      },
      "source": [
        "<a href=\"https://colab.research.google.com/github/eslorer/BTE-320/blob/main/In_Class_Assignments.ipynb\" target=\"_parent\"><img src=\"https://colab.research.google.com/assets/colab-badge.svg\" alt=\"Open In Colab\"/></a>"
      ]
    },
    {
      "cell_type": "code",
      "execution_count": 10,
      "metadata": {
        "colab": {
          "base_uri": "https://localhost:8080/"
        },
        "id": "X7GICZYA-fG1",
        "outputId": "084d7e07-2f3d-44fe-ceb4-953363411632"
      },
      "outputs": [
        {
          "output_type": "stream",
          "name": "stdout",
          "text": [
            "Enter sales ($): 5\n",
            "Enter Cost of Goods (%)6\n",
            "Enter Tax Rate (%)7\n",
            "Cost of Goods Sold: $0.3\n",
            "Gross Profit: $4.7\n",
            "taxes: $0.32899999999999996\n",
            "Net income: $4.371\n"
          ]
        }
      ],
      "source": [
        "# Inputs: sales ($) and cost of goods pct (%)\n",
        "sales = input(\"Enter sales ($): \")\n",
        "sales = float(sales)\n",
        "\n",
        "cogs_pct = input(\"Enter Cost of Goods (%)\")\n",
        "cogs_pct = float(cogs_pct)\n",
        "\n",
        "taxRate = input(\"Enter Tax Rate (%)\")\n",
        "taxRate = float(taxRate)\n",
        "\n",
        "#Processes: Calculate cost of goods sold and gross profit\n",
        "cogs = sales * (cogs_pct / 100)\n",
        "grossProfit = sales - cogs\n",
        "taxes = grossProfit * taxRate / 100\n",
        "netIncome = grossProfit - taxes\n",
        "\n",
        "#outputs: display cost of goods sold and GP\n",
        "print(f\"Cost of Goods Sold: ${cogs}\")\n",
        "print(f\"Gross Profit: ${grossProfit}\")\n",
        "print(f\"taxes: ${taxes}\")\n",
        "print(f\"Net income: ${netIncome}\")\n",
        "\n",
        "\n",
        "\n",
        "\n",
        "\n",
        "\n",
        "\n",
        "\n",
        "\n",
        "\n",
        "\n"
      ]
    },
    {
      "cell_type": "markdown",
      "source": [
        "# In class assignment 2\n"
      ],
      "metadata": {
        "id": "zYU_nWQSnEcy"
      }
    },
    {
      "cell_type": "code",
      "source": [
        "#D -> annual demand (units/year)\n",
        "#S -> Reorder cost ($/Unit)\n",
        "#H -> Holding cost ($/unit/year)\n",
        "#EOQ -> sqrt(2*D*S/H)\n",
        "\n",
        "demand = int(input(\"Enter Demand (units/year): \"))\n",
        "reorder = float(input(\"Enter reorder cost ($/order): \"))\n",
        "holding = float(input(\"Enter holding cost ($/unit/year): \"))\n",
        "\n",
        "#Process\n",
        "eoq = (2 * demand * reorder / holding) ** 0.5\n",
        "\n",
        "#output\n",
        "print(f\"EOQ: {eoq} units\")"
      ],
      "metadata": {
        "colab": {
          "base_uri": "https://localhost:8080/"
        },
        "id": "lQNJ5avknLX5",
        "outputId": "cd224b41-2f91-44f8-ddc1-0c1972f21a5f"
      },
      "execution_count": 12,
      "outputs": [
        {
          "output_type": "stream",
          "name": "stdout",
          "text": [
            "Enter Demand (units/year): 1000\n",
            "Enter reorder cost ($/order): 50\n",
            "Enter holding cost ($/unit/year): 10\n",
            "EOQ: 100.0 units\n"
          ]
        }
      ]
    }
  ]
}