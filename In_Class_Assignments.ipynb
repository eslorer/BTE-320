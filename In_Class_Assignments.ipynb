{
  "cells": [
    {
      "cell_type": "markdown",
      "metadata": {
        "id": "view-in-github",
        "colab_type": "text"
      },
      "source": [
        "<a href=\"https://colab.research.google.com/github/eslorer/BTE-320/blob/main/In_Class_Assignments.ipynb\" target=\"_parent\"><img src=\"https://colab.research.google.com/assets/colab-badge.svg\" alt=\"Open In Colab\"/></a>"
      ]
    },
    {
      "cell_type": "markdown",
      "metadata": {
        "id": "SgpWdM31tAqr"
      },
      "source": [
        "#Income statement"
      ]
    },
    {
      "cell_type": "code",
      "execution_count": null,
      "metadata": {
        "id": "X7GICZYA-fG1"
      },
      "outputs": [],
      "source": [
        "# Inputs: sales ($) and cost of goods pct (%)\n",
        "sales = input(\"Enter sales ($): \")\n",
        "sales = float(sales)\n",
        "\n",
        "cogs_pct = input(\"Enter Cost of Goods (%)\")\n",
        "cogs_pct = float(cogs_pct)\n",
        "\n",
        "taxRate = input(\"Enter Tax Rate (%)\")\n",
        "taxRate = float(taxRate)\n",
        "\n",
        "'''\n",
        "Processes: Calculate cost of goods sold and gross profit\n",
        "for the period\n",
        "'''\n",
        "\n",
        "cogs = sales * (cogs_pct / 100)\n",
        "grossProfit = sales - cogs\n",
        "taxes = grossProfit * taxRate / 100\n",
        "netIncome = grossProfit - taxes\n",
        "\n",
        "#outputs: display cost of goods sold and GP\n",
        "print(f\"Cost of Goods Sold: ${cogs}\")\n",
        "print(f\"Gross Profit: ${grossProfit}\")\n",
        "print(f\"taxes: ${taxes}\")\n",
        "print(f\"Net income: ${netIncome}\")\n",
        "\n",
        "\n",
        "\n",
        "\n",
        "\n",
        "\n",
        "\n",
        "\n",
        "\n",
        "\n",
        "\n"
      ]
    },
    {
      "cell_type": "markdown",
      "metadata": {
        "id": "zYU_nWQSnEcy"
      },
      "source": [
        "# Simple income statement calculation\n"
      ]
    },
    {
      "cell_type": "code",
      "execution_count": null,
      "metadata": {
        "colab": {
          "base_uri": "https://localhost:8080/"
        },
        "id": "lQNJ5avknLX5",
        "outputId": "cd224b41-2f91-44f8-ddc1-0c1972f21a5f"
      },
      "outputs": [
        {
          "name": "stdout",
          "output_type": "stream",
          "text": [
            "Enter Demand (units/year): 1000\n",
            "Enter reorder cost ($/order): 50\n",
            "Enter holding cost ($/unit/year): 10\n",
            "EOQ: 100.0 units\n"
          ]
        }
      ],
      "source": [
        "#D -> annual demand (units/year)\n",
        "#S -> Reorder cost ($/Unit)\n",
        "#H -> Holding cost ($/unit/year)\n",
        "#EOQ -> sqrt(2*D*S/H)\n",
        "\n",
        "demand = int(input(\"Enter Demand (units/year): \"))\n",
        "reorder = float(input(\"Enter reorder cost ($/order): \"))\n",
        "holding = float(input(\"Enter holding cost ($/unit/year): \"))\n",
        "\n",
        "#Process\n",
        "eoq = (2 * demand * reorder / holding) ** 0.5\n",
        "\n",
        "#output\n",
        "print(f\"EOQ: {eoq} units\")"
      ]
    },
    {
      "cell_type": "markdown",
      "metadata": {
        "id": "eF3YLZrGp0S0"
      },
      "source": [
        "# Numerical Calc\n",
        "\n",
        "\n",
        "\n"
      ]
    },
    {
      "cell_type": "code",
      "execution_count": null,
      "metadata": {
        "colab": {
          "base_uri": "https://localhost:8080/"
        },
        "id": "sGwyp9aYqAKC",
        "outputId": "51042075-e1e1-4dad-e082-75b6f999de20"
      },
      "outputs": [
        {
          "name": "stdout",
          "output_type": "stream",
          "text": [
            "Enter First Number: 7\n",
            "Enter Second Number: 3\n",
            "Enter Operator (+ ,- ,*, /, // , ** , %)://\n",
            "result = 2.0\n"
          ]
        }
      ],
      "source": [
        "n1 = input(\"Enter First Number: \")\n",
        "n1 = float(n1)\n",
        "n2 = input(\"Enter Second Number: \")\n",
        "n2 = float(n2)\n",
        "op = input('Enter Operator (+ ,- ,*, /, // , ** , %):')\n",
        "\n",
        "\n",
        "if op == \"+\":\n",
        "  res = n1 + n2\n",
        "\n",
        "elif op == \"-\":\n",
        "  res = n1 - n2\n",
        "\n",
        "elif op == \"*\":\n",
        "  res = n1 * n2\n",
        "\n",
        "elif op == \"/\":\n",
        "  res = n1 / n2\n",
        "\n",
        "elif op == \"//\":\n",
        "  res = n1 // n2\n",
        "\n",
        "elif op == \"**\":\n",
        "  res = n1 ** n2\n",
        "\n",
        "elif op == \"%\":\n",
        "  res = n1 % n2\n",
        "\n",
        "else:\n",
        "  res = None\n",
        "  print(\"Invalid operator\")\n",
        "\n",
        "print(f\"result = {res}\")\n",
        "\n",
        "\n",
        "\n",
        "\n",
        "\n",
        "\n",
        "\n"
      ]
    },
    {
      "cell_type": "markdown",
      "metadata": {
        "id": "-uCaj256-apb"
      },
      "source": [
        "\n",
        "\n",
        "```\n",
        "# This is formatted as code\n",
        "```\n",
        "\n",
        "# Parking Garage\n"
      ]
    },
    {
      "cell_type": "code",
      "execution_count": null,
      "metadata": {
        "colab": {
          "base_uri": "https://localhost:8080/"
        },
        "id": "LTzz1g71-dEv",
        "outputId": "f78a3db8-121b-4271-d6c0-a920d30a205f"
      },
      "outputs": [
        {
          "name": "stdout",
          "output_type": "stream",
          "text": [
            "1 10\n",
            "2 10.0\n",
            "3 12.5\n",
            "4 15.0\n",
            "5 17.5\n",
            "6 20.0\n",
            "7 20\n",
            "8 20\n"
          ]
        }
      ],
      "source": [
        "for hour in range(1,9):\n",
        "  fee = 5 + 2.5 * hour\n",
        "\n",
        "  if fee < 10:\n",
        "    fee = 10\n",
        "\n",
        "  elif fee > 20:\n",
        "    fee = 20\n",
        "\n",
        "\n",
        "  print(hour,fee)\n"
      ]
    },
    {
      "cell_type": "markdown",
      "source": [
        "Parking Garage: CalcFee"
      ],
      "metadata": {
        "id": "75fi2XH7BKW5"
      }
    },
    {
      "cell_type": "code",
      "source": [
        "def calcFee(h):\n",
        "  fee = 5 + 2.5 * h\n",
        "  if fee < 10.0:\n",
        "    return 10\n",
        "  elif fee > 20:\n",
        "    return 20\n",
        "  else:\n",
        "    return fee\n",
        "\n",
        "def main():\n",
        "  hours = int(float(input(\"Enter the number of hours: \")))\n",
        "  fee = calcFee(hours)\n",
        "  print(fee)\n",
        "\n",
        "\n",
        "main()\n",
        "\n"
      ],
      "metadata": {
        "colab": {
          "base_uri": "https://localhost:8080/"
        },
        "id": "e52489DtBMwa",
        "outputId": "7c9391f7-7dd9-4d98-9138-dedbf0e9f6bd"
      },
      "execution_count": null,
      "outputs": [
        {
          "output_type": "stream",
          "name": "stdout",
          "text": [
            "Enter the number of hours: 1000000\n",
            "20\n"
          ]
        }
      ]
    },
    {
      "cell_type": "markdown",
      "metadata": {
        "id": "3_99MihFsyb1"
      },
      "source": [
        "# Movie Theater\n"
      ]
    },
    {
      "cell_type": "code",
      "execution_count": null,
      "metadata": {
        "colab": {
          "base_uri": "https://localhost:8080/"
        },
        "id": "vU6t_7Kps11V",
        "outputId": "c5c8b192-42f0-4172-f14a-bc3ce5869f06"
      },
      "outputs": [
        {
          "name": "stdout",
          "output_type": "stream",
          "text": [
            "Ad ($) Profit ($) \n",
            "0 0\n",
            "25 75\n",
            "50 91\n",
            "75 98\n",
            "100 100\n",
            "125 99\n",
            "150 95\n",
            "175 90\n",
            "200 83\n"
          ]
        }
      ],
      "source": [
        "\n",
        "print (\"Ad ($) Profit ($) \")\n",
        "for ad in range(0,201,25):\n",
        "  revenue = (20 + 2 * ad ** .5)*10\n",
        "  costs = 200 + ad\n",
        "  profit = revenue - costs\n",
        "  print(ad,round(profit))\n",
        "\n",
        "\n",
        "\n"
      ]
    },
    {
      "cell_type": "markdown",
      "metadata": {
        "id": "ttKonAwiNZv_"
      },
      "source": [
        "# Numerical list\n"
      ]
    },
    {
      "cell_type": "code",
      "execution_count": null,
      "metadata": {
        "id": "fOcrhYP6Ndhd"
      },
      "outputs": [],
      "source": [
        "numbers = []\n",
        "\n",
        "num = float(input(\"Give a number:\"))\n",
        "\n",
        "while num != 0:\n",
        "  numbers.append(num)\n",
        "  num = float(input(\"Give another number:\"))\n",
        "\n",
        "numbers.sort(reverse = True)\n",
        "print(numbers)\n"
      ]
    },
    {
      "cell_type": "markdown",
      "metadata": {
        "id": "QrY17ALQ9sch"
      },
      "source": [
        "# AI Rock paper scissors\n",
        "\n"
      ]
    },
    {
      "cell_type": "code",
      "execution_count": null,
      "metadata": {
        "colab": {
          "background_save": true,
          "base_uri": "https://localhost:8080/"
        },
        "id": "f25vc1kU-QH5",
        "outputId": "89b85933-a13c-4c8c-b02c-9240ea80d3b8"
      },
      "outputs": [
        {
          "name": "stdout",
          "output_type": "stream",
          "text": [
            "Welcome to Rock, Paper, Scissors!\n",
            "Computer chose: paper\n",
            "You win!\n",
            "Computer chose: scissors\n",
            "It's a tie!\n",
            "Computer chose: paper\n",
            "It's a tie!\n",
            "Computer chose: paper\n",
            "It's a tie!\n",
            "Computer chose: scissors\n",
            "You lose!\n"
          ]
        }
      ],
      "source": [
        "import random\n",
        "\n",
        "print(\"Welcome to Rock, Paper, Scissors!\")\n",
        "\n",
        "# Ask if the user wants to play\n",
        "play = input(\"Do you want to play? (yes/no): \").lower()\n",
        "\n",
        "while play == \"yes\":\n",
        "    # User choice\n",
        "    user_choice = input(\"Choose rock, paper, or scissors: \").lower()\n",
        "\n",
        "    # Computer choice\n",
        "    computer_choice = random.choice(['rock', 'paper', 'scissors'])\n",
        "    print(\"Computer chose:\", computer_choice)\n",
        "\n",
        "    # Determine winner\n",
        "    if user_choice == computer_choice:\n",
        "        print(\"It's a tie!\")\n",
        "    elif (user_choice == \"rock\" and computer_choice == \"scissors\") or \\\n",
        "         (user_choice == \"scissors\" and computer_choice == \"paper\") or \\\n",
        "         (user_choice == \"paper\" and computer_choice == \"rock\"):\n",
        "        print(\"You win!\")\n",
        "    elif user_choice in [\"rock\", \"paper\", \"scissors\"]:\n",
        "        print(\"You lose!\")\n",
        "    else:\n",
        "        print(\"Invalid choice, please pick rock, paper, or scissors.\")\n",
        "\n",
        "    # Ask if they want to play again\n",
        "    play = input(\"Do you want to play again? (yes/no): \").lower()\n",
        "\n",
        "print(\"Thanks for playing!\")\n"
      ]
    },
    {
      "cell_type": "markdown",
      "source": [
        "# Product Prices"
      ],
      "metadata": {
        "id": "NYAZ5M7YOkBH"
      }
    },
    {
      "cell_type": "code",
      "source": [
        "products = {\n",
        "    'P-01': 9.95,\n",
        "    'P-02': 10.50\n",
        "}\n",
        "\n",
        "id = input(\"Enter Product ID:\")\n",
        "\n",
        "if id in products:\n",
        "  print(f'ID: {id}, Price: {products[id]}$')\n",
        "else:\n",
        "  print(\"Invalid ID\")"
      ],
      "metadata": {
        "colab": {
          "base_uri": "https://localhost:8080/"
        },
        "id": "4BAEA5uDOsGI",
        "outputId": "e4ab5435-f23e-4998-dfb2-2c72cf1f94bd"
      },
      "execution_count": null,
      "outputs": [
        {
          "output_type": "stream",
          "name": "stdout",
          "text": [
            "Enter Product ID:u\n",
            "Invalid ID\n"
          ]
        }
      ]
    },
    {
      "cell_type": "markdown",
      "source": [
        "# Recursive Functions: String Reversal\n"
      ],
      "metadata": {
        "id": "fhJZ467ZI4Nr"
      }
    },
    {
      "cell_type": "code",
      "source": [
        "def reverse_string(string):\n",
        "    if len(string) <= 1:\n",
        "        return string\n",
        "    return reverse_string(string[1:]) + string[0]\n",
        "\n",
        "user_input = input(\"Enter a string: \")\n",
        "print(\"Reversed string:\", reverse_string(user_input))"
      ],
      "metadata": {
        "colab": {
          "base_uri": "https://localhost:8080/"
        },
        "id": "wMzYY7LnI5lO",
        "outputId": "5cf8a831-ddf8-4c1e-d86f-2d76fc0dc017"
      },
      "execution_count": 10,
      "outputs": [
        {
          "output_type": "stream",
          "name": "stdout",
          "text": [
            "Enter a string: hola\n",
            "Reversed string: aloh\n"
          ]
        }
      ]
    }
  ],
  "metadata": {
    "colab": {
      "toc_visible": true,
      "provenance": [],
      "authorship_tag": "ABX9TyNSY2CGrJbmzRHajHrOM1Dw",
      "include_colab_link": true
    },
    "kernelspec": {
      "display_name": "Python 3",
      "name": "python3"
    },
    "language_info": {
      "name": "python"
    }
  },
  "nbformat": 4,
  "nbformat_minor": 0
}