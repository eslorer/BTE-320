{
  "nbformat": 4,
  "nbformat_minor": 0,
  "metadata": {
    "colab": {
      "provenance": [],
      "authorship_tag": "ABX9TyPJBYwdx2SL5utWAOeUpY16",
      "include_colab_link": true
    },
    "kernelspec": {
      "name": "python3",
      "display_name": "Python 3"
    },
    "language_info": {
      "name": "python"
    }
  },
  "cells": [
    {
      "cell_type": "markdown",
      "metadata": {
        "id": "view-in-github",
        "colab_type": "text"
      },
      "source": [
        "<a href=\"https://colab.research.google.com/github/eslorer/BTE-320/blob/main/In_Class_Assignments.ipynb\" target=\"_parent\"><img src=\"https://colab.research.google.com/assets/colab-badge.svg\" alt=\"Open In Colab\"/></a>"
      ]
    },
    {
      "cell_type": "code",
      "execution_count": 28,
      "metadata": {
        "colab": {
          "base_uri": "https://localhost:8080/"
        },
        "id": "X7GICZYA-fG1",
        "outputId": "44ce1a13-61b8-4440-d674-e758cab04b6a"
      },
      "outputs": [
        {
          "output_type": "stream",
          "name": "stdout",
          "text": [
            "Enter sales ($): 30\n",
            "Enter Cost of Goods (%)20\n",
            "Enter Tax Rate (%)20\n",
            "Cost of Goods Sold: $6.0\n",
            "Gross Profit: $24.0\n",
            "taxes: $4.8\n",
            "Net income: $19.2\n"
          ]
        }
      ],
      "source": [
        "# Inputs: sales ($) and cost of goods pct (%)\n",
        "sales = input(\"Enter sales ($): \")\n",
        "sales = float(sales)\n",
        "\n",
        "cogs_pct = input(\"Enter Cost of Goods (%)\")\n",
        "cogs_pct = float(cogs_pct)\n",
        "\n",
        "taxRate = input(\"Enter Tax Rate (%)\")\n",
        "taxRate = float(taxRate)\n",
        "\n",
        "#Processes: Calculate cost of goods sold and gross profit\n",
        "cogs = sales * (cogs_pct / 100)\n",
        "grossProfit = sales - cogs\n",
        "taxes = grossProfit * taxRate / 100\n",
        "netIncome = grossProfit - taxes\n",
        "\n",
        "#outputs: display cost of goods sold and GP\n",
        "print(f\"Cost of Goods Sold: ${cogs}\")\n",
        "print(f\"Gross Profit: ${grossProfit}\")\n",
        "print(f\"taxes: ${taxes}\")\n",
        "print(f\"Net income: ${netIncome}\")\n",
        "\n",
        "\n",
        "\n",
        "\n",
        "\n",
        "\n",
        "\n",
        "\n",
        "\n",
        "\n",
        "\n"
      ]
    }
  ]
}